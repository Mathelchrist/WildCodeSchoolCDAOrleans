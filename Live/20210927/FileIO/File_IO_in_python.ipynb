{
 "cells": [
  {
   "cell_type": "markdown",
   "id": "55c5f144",
   "metadata": {},
   "source": [
    "# Manipulation des fichiers - exemple python\n",
    "\n",
    "Quand on veut manipuler un fichier avec un langage de programmation, il y a 3 éléments importants qui sont communs à tous les langages :\n",
    "\n",
    "1. Il faut dire si on veut ouvrir le fichier en texte ou en binaire. En python par défaut c'est texte,on ajoute le b (voir exemple binaire) pour du binaire\n",
    "\n",
    "1. Il faut définir le mode d'ouverture (**w** => write, **a** => append, **r** => read). On ne peut pas écrire et lire un fichier à la fois\n",
    "\n",
    "1. Il faut penser à refermer le fichier ! En python l'instruction with assure que lorsque l'on sort du bloc, le fichier est fermé"
   ]
  },
  {
   "cell_type": "code",
   "execution_count": 2,
   "id": "76ef8924",
   "metadata": {},
   "outputs": [
    {
     "name": "stdout",
     "output_type": "stream",
     "text": [
      "Hello world !\n"
     ]
    }
   ],
   "source": [
    "with open(\"test.txt\", \"w\") as f:\n",
    "    f.write(\"Hello\")\n",
    "    \n",
    "with open(\"test.txt\", \"a\") as f:\n",
    "    f.write(\" world !\")\n",
    "    \n",
    "with open(\"test.txt\", \"r\") as f:\n",
    "    print(f.read())"
   ]
  },
  {
   "cell_type": "code",
   "execution_count": 3,
   "id": "70c0b2a3",
   "metadata": {},
   "outputs": [
    {
     "name": "stdout",
     "output_type": "stream",
     "text": [
      "Hello world !\n"
     ]
    }
   ],
   "source": [
    "with open(\"test\", \"wb\") as f:\n",
    "    f.write(str.encode(\"Hello\"))\n",
    "    \n",
    "with open(\"test\", \"ab\") as f:\n",
    "    f.write(str.encode(\" world !\"))\n",
    "    \n",
    "with open(\"test\", \"rb\") as f:\n",
    "    print(f.read().decode())"
   ]
  },
  {
   "cell_type": "code",
   "execution_count": null,
   "id": "af97914c",
   "metadata": {},
   "outputs": [],
   "source": []
  }
 ],
 "metadata": {
  "kernelspec": {
   "display_name": "Python 3",
   "language": "python",
   "name": "python3"
  },
  "language_info": {
   "codemirror_mode": {
    "name": "ipython",
    "version": 3
   },
   "file_extension": ".py",
   "mimetype": "text/x-python",
   "name": "python",
   "nbconvert_exporter": "python",
   "pygments_lexer": "ipython3",
   "version": "3.8.10"
  }
 },
 "nbformat": 4,
 "nbformat_minor": 5
}
